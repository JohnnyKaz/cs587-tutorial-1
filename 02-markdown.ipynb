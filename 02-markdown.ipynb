{
 "cells": [
  {
   "cell_type": "markdown",
   "metadata": {},
   "source": [
    "# CS-587 Neural Networks\n",
    "## Tutorial 1: Introduction to Python (19/02/2025)\n",
    "### Teaching Assistant: Yannis Kaziales ~ kaziales@csd.uoc.gr\n",
    "---"
   ]
  },
  {
   "cell_type": "markdown",
   "metadata": {},
   "source": [
    "This file contains some basic <span style=\"color:orange\">**Markdown**</span> syntax. Markdown is a simple markup language that describes how text will look on a page. In the context of this course we will encounter it in jupyter notebooks.\n",
    "\n",
    "**Note:** You don't need to learn how to write markdown for the context of the course, you can use plain text instead. You may find it useful, though.\n",
    "\n",
    "Why learn markdown?\n",
    "- It is easy to learn and use\n",
    "- it can upgrade the look of your notebooks\n",
    "- you can write quicker with it\n",
    "- it can be converted to HTML code\n",
    "- it has many other uses (e.g. for quick notes, for creating web pages, on github, on discord)\n",
    "\n",
    "Below we will look at some cool stuff we can do using markdown\n",
    "\n",
    "<div class=\"alert alert-block alert-info\">\n",
    "<b>Note:</b> To see the underlying markdown code, you can double click on any of the cells below.\n",
    "</div>\n",
    "\n",
    "---"
   ]
  },
  {
   "cell_type": "markdown",
   "metadata": {},
   "source": [
    "## Headings\n",
    "Using the `#` symbol we can create headings of different importance (1-6)\n",
    "# Heading 1\n",
    "## Heading 2\n",
    "### Heading 3\n",
    "#### Title 4\n",
    "##### Title 5\n",
    "##### Title 6\n",
    "\n",
    "regular text\n",
    "\n",
    "---"
   ]
  },
  {
   "cell_type": "markdown",
   "metadata": {},
   "source": [
    "## Text formatting\n",
    "\n",
    "text inside an `*asterisk*` or `_underscore_` becomes *emphasized*\n",
    "\n",
    "text within `**two asterisks**` or `__two underscores__` becomes **bold**\n",
    "\n",
    "text within `~~2 tilde symbols~~` appears ~~erased~~ \n",
    "\n",
    "> text after `>` appears in blockquote. It is useful for quotes\n",
    "\n",
    "> there is the possibility for nested blockquotes\n",
    "> > which appear **like this**\n",
    "\n",
    "---"
   ]
  },
  {
   "cell_type": "markdown",
   "metadata": {},
   "source": [
    "## Lists\n",
    "\n",
    "you can make a numbered list by writing `1.` in front of each item:\n",
    "1. list\n",
    "2. with\n",
    "3. numbers\n",
    "\n",
    "you can make bulletpoints using `-`, `*`, or `+` in front of each item:\n",
    "- list\n",
    "- with\n",
    "- bullet-points\n",
    "\n",
    "---"
   ]
  },
  {
   "cell_type": "markdown",
   "metadata": {},
   "source": [
    "## Code\n",
    "\n",
    "text inside \\`backticks\\` appears as `code`\n",
    "\n",
    "You can put code in a codeblock by enclosing it in \\`\\`\\`3 backticks\\`\\`\\`:\n",
    "```\n",
    "print(\"Hello, world!\")\n",
    "a: int = 1\n",
    "b: int = 2\n",
    "print(a + b)\n",
    "```\n",
    "\n",
    "You can set the language of the codeblock (so that it has syntax highlight) by writing it after the first 3 backticks (\\`\\`\\`):\n",
    "```python\n",
    "print(\"Hello, world!\")\n",
    "a: int = 1\n",
    "b: int = 2\n",
    "print(a + b)\n",
    "```\n",
    "\n",
    "---"
   ]
  },
  {
   "cell_type": "markdown",
   "metadata": {},
   "source": [
    "## Equations with latex\n",
    "You can write mathematical formulas and equations using $\\LaTeX$ notation (more detailed guide [here](https://www.overleaf.com/learn/latex/Mathematical_expressions))\n",
    "\n",
    "Specifically, enclosing an equation in $\\LaTeX$ format inside `$dollar symbols$` appears inline, i.e. on the same line as the text.\n",
    "\n",
    "For example, `$\\bar{x} = \\frac{\\sum_{i=1}^{n}x_i}{n}$` appears as $\\bar{x} = \\frac{\\sum_{i=1}^{n}x_i}{n}$\n",
    "\n",
    "Enclosing an equation in `$$2 dollar symbols$` appears on a separate line, in larger letters.\n",
    "\n",
    "For example, `$$\\bar{x} = \\frac{\\sum_{i=1}^{n}x_i}{n}$$` appears as $$\\bar{x} = \\frac{\\sum_{i=1}^{n}x_i}{n}$$\n",
    "\n",
    "---\n",
    "\n",
    "Let's see some useful notation in the context of neural networks (you can find the $\\LaTeX$ notation for any symbol [here](https://detexify.kirelabs.org/classify.html))\n",
    "- you can use greek letters: `$\\theta, \\Theta, \\alpha, \\eta, \\Omega$` $\\to$ $\\theta, \\Theta, \\alpha, \\eta, \\Omega$\n",
    "- you can use symbols: `$x, \\hat{x}, \\tilde{x}, x'$` $\\to$ $x, \\hat{x}, \\tilde{x}, x'$\n",
    "- you can add whitespace between symbols: `$x x\\, x\\; x\\quad x\\qquad x$` $\\to$ $x x\\, x\\; x\\quad x\\qquad x$\n",
    "- you can use subscripts and superscripts: `$x_{a}^{b}, S^{3\\times N}$` $\\to$ $x_{a}^{b}, S^{3\\times N}$\n",
    "- you can use notation for spaces: `$\\mathbb{R}, \\mathbb{N}, \\mathbb{R}^3$` $\\to$ $\\mathbb{R}, \\mathbb{N}, \\mathbb{R}^3$\n",
    "\n",
    "- you can write products, summations, and integrals: `$\\sum_{i=0}^{N}x$`, `$\\prod_{i=0}^{N}x$`, `$\\int_{0}^{N}x\\; dx$`$$ \\sum_{i=0}^{N}x \\qquad \\prod_{i=0}^{N}x \\qquad \\int_{0}^{N}x\\; dx$$\n",
    "- you can use symbols for derivatives: `$dx$`, `$\\partial x$`, `$\\nabla x$` $$dx  \\quad  \\partial x  \\quad  \\nabla x$$\n",
    "- you can write fractions: `$\\frac{a}{b}, \\frac{\\partial f(x)}{\\partial x}$` $\\to$ $\\frac{a}{b}, \\frac{\\partial f(x)}{\\partial x}$\n",
    "- you can use square roots: `$\\sqrt{x+1}$` $\\to$ $\\sqrt{x+1}$\n",
    "- you can use ceiling/floor: `$\\lceil x \\rceil, \\lfloor x \\rfloor$` $\\to$ $\\lceil x \\rceil, \\lfloor x \\rfloor$\n",
    "- you can use comparissons: `$> \\geq < \\leq = \\neq \\approx$` $\\to$ $> \\geq < \\leq = \\neq \\approx$\n",
    "- you can create branch functions:\n",
    "$$\n",
    "|x| =\n",
    "\\left\\{\n",
    "\\begin{array}{ll}\n",
    "      x     &, x \\geq 0 \\\\\n",
    "      -x    &, x < 0 \\\\\n",
    "\\end{array}\n",
    "\\right.\n",
    "$$\n",
    "---"
   ]
  },
  {
   "cell_type": "markdown",
   "metadata": {},
   "source": [
    "## Images\n",
    "You can load an image with the following syntax:\n",
    "\n",
    "`![what text will be shown if the image does not load](path/to/the/image)`\n",
    "\n",
    "For example, let's load the following image `![uoc logo](./uoc_logo.png)`\n",
    "\n",
    "![uoc logo](./uoc_logo.png)\n",
    "\n",
    "If we misspelled the path of the image, it would not load and we would see the alternative text, e.g.\n",
    "\n",
    "`![typo was made in the path](./mistake.png)`\n",
    "\n",
    "![typo was made in the path](./mistake.png)\n",
    "\n",
    "---"
   ]
  },
  {
   "cell_type": "markdown",
   "metadata": {},
   "source": [
    "## Tables\n",
    "You can create a table. To do this, you use a vertical line (`|`) to separate each column, and three or more hyphens (`---`) are needed for the title of each column. You can align the text in the columns to the left, right, or center by adding a colon (`:`) to the left, right, or both sides of the `---` inside the header line. Let's look at an example:\n",
    "\n",
    "```\n",
    "| Heading 1 | Heading 2 | Heading 3 |\n",
    "| :---      | :----:    | ---:      |\n",
    "| Left      | Center    | Right     |\n",
    "| Alignment | Alignment | Alignment |\n",
    "```\n",
    "| Heading 1 | Heading 2 | Heading 3 |\n",
    "| :--- | :----: | ---: |\n",
    "| Left | Center | Right |\n",
    "| Alignment | Alignment | Alignment |\n",
    "---"
   ]
  },
  {
   "cell_type": "markdown",
   "metadata": {},
   "source": [
    "## HTML formatting \n",
    "\n",
    "More generally, you can use `html code` to achieve interesting results, like the following:\n",
    "\n",
    "You can change the <span style=\"color:orange\">color of your text</span> at any place\n",
    "\n",
    "You can <u>underline</u> your text.\n",
    "\n",
    "You can create different boxes, depending on the intended use\n",
    "<div class=\"alert alert-block alert-info\">\n",
    "<b>Tip:</b> Use blue boxes (alert-info) for tips and notes.\n",
    "</div>\n",
    "\n",
    "<div class=\"alert alert-block alert-warning\">\n",
    "<b>Example:</b> Use yellow boxes for examples that are not \n",
    "inside code cells, or use for mathematical formulas if needed.\n",
    "Typically also used to display warning messages.\n",
    "</div>\n",
    "\n",
    "<div class=\"alert alert-block alert-success\">\n",
    "<b>Success:</b> This alert box indicates a successful or positive action.\n",
    "</div>\n",
    "\n",
    "<div class=\"alert alert-block alert-danger\">\n",
    "<b>Danger:</b> This alert box indicates a dangerous or potentially negative action.\n",
    "</div>"
   ]
  }
 ],
 "metadata": {
  "kernelspec": {
   "display_name": "Python 3 (ipykernel)",
   "language": "python",
   "name": "python3"
  },
  "language_info": {
   "codemirror_mode": {
    "name": "ipython",
    "version": 3
   },
   "file_extension": ".py",
   "mimetype": "text/x-python",
   "name": "python",
   "nbconvert_exporter": "python",
   "pygments_lexer": "ipython3",
   "version": "3.9.7"
  }
 },
 "nbformat": 4,
 "nbformat_minor": 2
}
