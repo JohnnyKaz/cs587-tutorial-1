{
 "cells": [
  {
   "cell_type": "markdown",
   "metadata": {},
   "source": [
    "# CS-587 Neural Networks\n",
    "## Tutorial 1: Introduction to Python (19/02/2025)\n",
    "### Teaching Assistant: Yannis Kaziales ~ kaziales@csd.uoc.gr\n",
    "---"
   ]
  },
  {
   "cell_type": "markdown",
   "metadata": {},
   "source": [
    "In this file we will look at some code examples to understand some basic concepts of python"
   ]
  },
  {
   "cell_type": "markdown",
   "metadata": {},
   "source": [
    "## Basic Data Types\n",
    "Python supports various basic types:\n",
    "- integers: `int`\n",
    "- floating-point numbers: `float`\n",
    "- logical values `bool`\n",
    "- strings `str`\n"
   ]
  },
  {
   "cell_type": "code",
   "execution_count": 1,
   "metadata": {},
   "outputs": [
    {
     "name": "stdout",
     "output_type": "stream",
     "text": [
      "str1 = double quotation marks\n",
      "str2 = single quotation marks\n",
      "str3 = \"phrase\" with escape character\n",
      "str4 = 'phrase' with other quotation marks\n",
      "str5 = special \n",
      "characters\n",
      "str6 = python supports unicode, so other languages (όπως τα Ελληνικά) or cool stuff 🤓\n"
     ]
    }
   ],
   "source": [
    "# ints\n",
    "int1 = 136\n",
    "int2: int = -8\n",
    "\n",
    "# floats\n",
    "float1 = 3.1415\n",
    "float2 = -1.89\n",
    "float3: float = 2.48e4 # = 2.48 * 10^4 = 24800\n",
    "\n",
    "# bools\n",
    "bool1 = True\n",
    "bool2: bool = False\n",
    "\n",
    "# strs\n",
    "str1 = \"double quotation marks\"\n",
    "str2 = 'single quotation marks'\n",
    "str3 = \"\\\"phrase\\\" with escape character\"\n",
    "str4 = \"'phrase' with other quotation marks\"\n",
    "str5: str = \"special \\ncharacters\"\n",
    "str6 = \"python supports unicode, so other languages (όπως τα Ελληνικά) or cool stuff \\U0001F913\"\n",
    "\n",
    "print(\"str1 =\", str1)\n",
    "print(\"str2 =\", str2)\n",
    "print(\"str3 =\", str3)\n",
    "print(\"str4 =\", str4)\n",
    "print(\"str5 =\", str5)\n",
    "print(\"str6 =\", str6)"
   ]
  },
  {
   "cell_type": "markdown",
   "metadata": {},
   "source": [
    "## Type Conversion"
   ]
  },
  {
   "cell_type": "code",
   "execution_count": 2,
   "metadata": {},
   "outputs": [
    {
     "name": "stdout",
     "output_type": "stream",
     "text": [
      "int(\"1305\") = 1305\n",
      "float(\"3.14\") = 3.14\n",
      "int(39.99) = 39\n",
      "str(371) = '371'\n",
      "str(-3.14) = '-3.14'\n"
     ]
    }
   ],
   "source": [
    "print(f'{int(\"1305\") = }')\n",
    "print(f'{float(\"3.14\") = }')\n",
    "print(f'{int(39.99) = }')\n",
    "print(f'{str(371) = }')\n",
    "print(f'{str(-3.14) = }')"
   ]
  },
  {
   "cell_type": "markdown",
   "metadata": {},
   "source": [
    "## Complex Data Types\n",
    "In addition to the basic types, python supports lists (`list`), tuples (`tuple`), dictionaries (`dict`) and sets (`set`)"
   ]
  },
  {
   "cell_type": "code",
   "execution_count": 3,
   "metadata": {},
   "outputs": [
    {
     "name": "stdout",
     "output_type": "stream",
     "text": [
      "<class 'tuple'> (3.14,)\n",
      "<class 'float'> 3.14\n"
     ]
    }
   ],
   "source": [
    "# lists\n",
    "L1 = [1, 2, 3]\n",
    "L2 = [1, \"string\", True]\n",
    "L3 = [L1, L2]\n",
    "L4 = []\t# empty list\n",
    "\n",
    "# tuples\n",
    "t1 = (1, 2, 3)\n",
    "t2 = (1, \"string\", True)\n",
    "t4 = ()             # empty tuple\n",
    "t3 = (\"one item\",)  # the ',' is needed in order to be a tuple\n",
    "\n",
    "# Warning\n",
    "var_tuple = (3.14,) # tuple with one element\n",
    "var_float = (3.14)\t# without ',' it is a float\n",
    "\n",
    "print(type(var_tuple), var_tuple)\n",
    "print(type(var_float), var_float)"
   ]
  },
  {
   "cell_type": "code",
   "execution_count": 4,
   "metadata": {},
   "outputs": [
    {
     "name": "stdout",
     "output_type": "stream",
     "text": [
      "s2={1, 'string'}\n",
      "d2={1: 'one', 2: 'two'}\n",
      "d3={(1, 2, 3): 12, True: False}\n",
      "d4={} | type(d4)=<class 'dict'>\n"
     ]
    }
   ],
   "source": [
    "# sets\n",
    "s1 = {1, 2, 2, 3} # {1, 2, 3}\n",
    "s2 = {1, \"string\", True}\n",
    "s3 = set()\t# empty set\n",
    "\n",
    "# dicts\n",
    "d1 = {\"name\":\"Yannis\", \"age\":23}\n",
    "d2 = {1:\"one\", 2:\"two\"}\n",
    "d3 = {t1:12, True:\"str\", 1: False}\n",
    "d4 = {} # empty dict\n",
    "\n",
    "# Warning: {} is an empty dictionary, not set\n",
    "print(f\"{s2=}\")\n",
    "print(f\"{d2=}\")\n",
    "print(f\"{d3=}\")\n",
    "print(f\"{d4=} | {type(d4)=}\")"
   ]
  },
  {
   "cell_type": "markdown",
   "metadata": {},
   "source": [
    "## Basic Operators"
   ]
  },
  {
   "cell_type": "markdown",
   "metadata": {},
   "source": [
    "Assignment and numerical operators"
   ]
  },
  {
   "cell_type": "code",
   "execution_count": 5,
   "metadata": {},
   "outputs": [
    {
     "name": "stdout",
     "output_type": "stream",
     "text": [
      "c=46.56 d=-22.560000000000002 e=93.12 f=1.2 g=1 h=2 a=26\n"
     ]
    }
   ],
   "source": [
    "a = 12\n",
    "b = 34.56\n",
    "c = a + b       # c = 46.56\n",
    "d = a - b       # d = -22.56\n",
    "e = (a + b) * 2 # e = 93.12\n",
    "f = a / 10      # f = 1.2\n",
    "g = a // 10     # g = 1\n",
    "h = a % 10      # h = 2\n",
    "a += 5          # a = 17\n",
    "a -= 4          # a = 13\n",
    "a *= 2          # a = 26\n",
    "\n",
    "print(f\"{c=} {d=} {e=} {f=} {g=} {h=} {a=}\")"
   ]
  },
  {
   "cell_type": "markdown",
   "metadata": {},
   "source": [
    "String, Logical, and Relational operators"
   ]
  },
  {
   "cell_type": "code",
   "execution_count": 6,
   "metadata": {},
   "outputs": [
    {
     "name": "stdout",
     "output_type": "stream",
     "text": [
      "b1=True b2=True b3=False b4=True b5=True b6=True b7=True b8=False b9=False\n"
     ]
    }
   ],
   "source": [
    "s = \"Hello\"\n",
    "t = \"hey\"\n",
    "s2 = s + \"371\"      # s2 = \"Hello371\"\n",
    "s += \" world\"       # s = \"Hello world\"\n",
    "t = t * 3           # t = \"heyheyhey\"\n",
    "\n",
    "a, b = 18, 34.56\n",
    "b1 = a == 18        # b1 = True\n",
    "b2 = b > 34         # b2 = True\n",
    "b3 = s == \"Hi\"      # b3 = False\n",
    "b4 = s > \"Alpha\"    # b4 = True\n",
    "b5 = not b3         # b5 = True\n",
    "b6 = b1 and b2      # b6 = True\n",
    "b7 = b1 or b3       # b7 = True\n",
    "b8 = b1 and b3      # b8 = False\n",
    "b9 = a<10 and b7    # b9 = False\n",
    "\n",
    "print(f\"{b1=} {b2=} {b3=} {b4=} {b5=} {b6=} {b7=} {b8=} {b9=}\")"
   ]
  },
  {
   "cell_type": "markdown",
   "metadata": {},
   "source": [
    "### Python uses Short-Circuit Evaluation (just like C)\n",
    "the second argument is executed/evaluated only if the first argument is not enough for determining the value of the expression"
   ]
  },
  {
   "cell_type": "code",
   "execution_count": 7,
   "metadata": {},
   "outputs": [
    {
     "name": "stdout",
     "output_type": "stream",
     "text": [
      "bool1 print\n",
      "bool3 print\n"
     ]
    }
   ],
   "source": [
    "bool1 = True and (print(\"bool1 print\") == None)  # True and... -> we need to check the 2nd argument\n",
    "bool2 = True or (print(\"bool2 print\") == None)   # True or...  -> True, no need to check the 2nd argument\n",
    "\n",
    "bool3 = False or (print(\"bool3 print\") == None)  # False or... -> we need to check the 2nd argument\n",
    "bool4 = False and (print(\"bool4 print\") == None) # False and...-> False, no need to check the 2nd argument"
   ]
  },
  {
   "cell_type": "markdown",
   "metadata": {},
   "source": [
    "## Basic operators for sequences"
   ]
  },
  {
   "cell_type": "code",
   "execution_count": 8,
   "metadata": {},
   "outputs": [
    {
     "name": "stdout",
     "output_type": "stream",
     "text": [
      "x=5\n",
      "L1=[1, 2]\n",
      "L2=[1, 2, 3]\n",
      "L3=[0, 1, 2, 3]\n",
      "L4=[1, 3]\n",
      "L5=[3, 2, 1, 0]\n",
      "L6=[1, 2, 1, 3]\n",
      "L7=[1, 2, 1, 2]\n",
      "l=4\n",
      "b1=True\n",
      "b2=False\n"
     ]
    }
   ],
   "source": [
    "L = [0, 1, 2, 3]\n",
    "\n",
    "# indexing\n",
    "x  = L[2] + L[-1]    # x = 2 + 3 = 5\n",
    "\n",
    "# slicing\n",
    "L1 = L[1:3]     # L1=[1, 2]\n",
    "L2 = L[1:]      # L2=[1, 2, 3]\n",
    "L3 = L[:]       # L3=[0, 1, 2, 3]\n",
    "L4 = L[1::2]    # L4=[1, 3]\n",
    "L5 = L[::-1]    # L5=[3, 2, 1, 0]\n",
    "\n",
    "# length\n",
    "l = len(L)      # l = 4\n",
    "\n",
    "# concatenation\n",
    "L6 = L1 + L4 # L6 = [1, 2] + [1, 3] = [1, 2, 1, 3]\n",
    "L7 = 2 * L1  # L7 = 2 * [1, 2] = [1, 2, 1, 2]\n",
    "\n",
    "# membership: is the element present in the list?\n",
    "b1 = 1 in L        # b1 = True\n",
    "b2 = 3 not in L    # b2 = False\n",
    "\n",
    "print(f\"{x=}\\n{L1=}\\n{L2=}\\n{L3=}\\n{L4=}\\n{L5=}\\n{L6=}\\n{L7=}\\n{l=}\\n{b1=}\\n{b2=}\")"
   ]
  },
  {
   "cell_type": "markdown",
   "metadata": {},
   "source": [
    "## List Functions"
   ]
  },
  {
   "cell_type": "code",
   "execution_count": 9,
   "metadata": {},
   "outputs": [
    {
     "name": "stdout",
     "output_type": "stream",
     "text": [
      "[1, 2, 3, 4]\n"
     ]
    }
   ],
   "source": [
    "L = []\n",
    "L.append(1)         # L=[1]\n",
    "L.extend([2, 3, 2]) # L=[1, 2, 3, 2]\n",
    "L.insert(1, 4)      # L=[1, 4, 2, 3, 2]\n",
    "L.remove(2)         # L=[1, 4, 3, 2]\n",
    "L.reverse()         # L=[2, 3, 4, 1]\n",
    "L.sort()            # L=[1, 2, 3, 4]\n",
    "\n",
    "print(L)"
   ]
  },
  {
   "cell_type": "code",
   "execution_count": 10,
   "metadata": {},
   "outputs": [
    {
     "name": "stdout",
     "output_type": "stream",
     "text": [
      "L8=[3, 2, 1, 0]\n",
      "L9=[1, 1, 2, 2]\n",
      "c=2\n",
      "d=3\n"
     ]
    }
   ],
   "source": [
    "L  = [0, 1, 2, 3]\n",
    "L6 = [1, 2, 1, 3]\n",
    "\n",
    "L8 = list(reversed(L))  # L8=[3, 2, 1, 0]\n",
    "L9 = sorted(L7)         # L9=[1, 1, 2, 2]\n",
    "\n",
    "c = L6.count(1)         # c = 2\n",
    "d = L.index(3)          # d = 3\n",
    "\n",
    "print(f\"{L8=}\\n{L9=}\\n{c=}\\n{d=}\")"
   ]
  },
  {
   "cell_type": "code",
   "execution_count": 11,
   "metadata": {},
   "outputs": [
    {
     "name": "stdout",
     "output_type": "stream",
     "text": [
      "s1='og'\n",
      "s2='rrm'\n",
      "s3='lalala'\n",
      "b3=True\n",
      "w=['e', 'h', 'l', 'p']\n",
      "x=['p', 'l', 'h', 'e']\n"
     ]
    }
   ],
   "source": [
    "s = \"Programming\"\n",
    "s1 = s[2] + s[-1]   # s1 = \"og\"\n",
    "s2 = s[1:9:3]       # s2 = \"rrm\"\n",
    "s3 = 3 * \"la\"       # s3 = \"lalala\"\n",
    "b3 = \"a\" in s       # b3 = True\n",
    "w = sorted(\"help\")  # w = [\"e\",\"h\",\"l\",\"p\"]\n",
    "x = sorted(\"help\", reverse = True)  # x = [\"p\",\"l\",\"h\",\"e\"]\n",
    "\n",
    "print(f\"{s1=}\\n{s2=}\\n{s3=}\\n{b3=}\\n{w=}\\n{x=}\")"
   ]
  },
  {
   "cell_type": "markdown",
   "metadata": {},
   "source": [
    "## Input & Output: Different ways to print text with variables"
   ]
  },
  {
   "cell_type": "code",
   "execution_count": 12,
   "metadata": {},
   "outputs": [
    {
     "name": "stdout",
     "output_type": "stream",
     "text": [
      "hello world\n",
      "Hello Yannis. You are 24 years old.\n",
      "Hello Yannis . You are 24 years old.\n",
      "Hello Yannis. You are 24 years old.\n",
      "Hello Yannis. You are 24 years old.\n"
     ]
    }
   ],
   "source": [
    "name = input(\"What is your name;\")\n",
    "age = int(input(\"How old are you?\"))\n",
    "\n",
    "print(\"hello world\")\n",
    "\n",
    "# all the following print the same thing\n",
    "print(\"Hello \" + name + \". You are \" + str(age) + \" years old.\") \n",
    "\n",
    "print(\"Hello\", name, \". You are\", age, \"years old.\")\n",
    "\n",
    "print(\"Hello {}. You are {} years old.\".format(name, age))\n",
    "\n",
    "# the best method : f-strings (python >= 3.6)\n",
    "print(f\"Hello {name}. You are {age} years old.\")\n",
    "\n",
    "# e.g. Hello Yannis. You are 23 years old."
   ]
  },
  {
   "cell_type": "markdown",
   "metadata": {},
   "source": [
    "## Printing up to the 2nd decimal place"
   ]
  },
  {
   "cell_type": "code",
   "execution_count": 13,
   "metadata": {},
   "outputs": [
    {
     "name": "stdout",
     "output_type": "stream",
     "text": [
      "4863.4343091\n",
      "4863.43\n"
     ]
    }
   ],
   "source": [
    "x = 4863.4343091\n",
    "print(x)\n",
    "print(f\"{x:.2f}\")"
   ]
  },
  {
   "cell_type": "markdown",
   "metadata": {},
   "source": [
    "## Conditional Execution: if-elif-else"
   ]
  },
  {
   "cell_type": "code",
   "execution_count": 14,
   "metadata": {},
   "outputs": [
    {
     "name": "stdout",
     "output_type": "stream",
     "text": [
      "x is positive\n"
     ]
    }
   ],
   "source": [
    "x = 5\n",
    "if x > 0:\n",
    "\tprint(\"x is positive\")"
   ]
  },
  {
   "cell_type": "markdown",
   "metadata": {},
   "source": [
    "## `while` loops"
   ]
  },
  {
   "cell_type": "code",
   "execution_count": 15,
   "metadata": {},
   "outputs": [
    {
     "data": {
      "text/plain": [
       "45"
      ]
     },
     "execution_count": 15,
     "metadata": {},
     "output_type": "execute_result"
    }
   ],
   "source": [
    "s, i = 0, 0\n",
    "while i < 10:\n",
    "\ts = s + i \n",
    "\ti = i + 1\n",
    "# s = 0 + 1 + 2 + ...+ 9 = 45 \n",
    "s"
   ]
  },
  {
   "cell_type": "code",
   "execution_count": 16,
   "metadata": {},
   "outputs": [
    {
     "name": "stdout",
     "output_type": "stream",
     "text": [
      "0\n",
      "1\n",
      "2\n",
      "4\n",
      "5\n"
     ]
    }
   ],
   "source": [
    "i = 0\n",
    "while i < 10:\n",
    "    if i == 3:\n",
    "        i += 1\n",
    "        continue\n",
    "    print(i)\n",
    "    if i == 5:\n",
    "        break\n",
    "    i += 1\n",
    "# prints 0 1 2 4 5"
   ]
  },
  {
   "cell_type": "markdown",
   "metadata": {},
   "source": [
    "## `for` loops"
   ]
  },
  {
   "cell_type": "code",
   "execution_count": 17,
   "metadata": {},
   "outputs": [
    {
     "data": {
      "text/plain": [
       "3"
      ]
     },
     "execution_count": 17,
     "metadata": {},
     "output_type": "execute_result"
    }
   ],
   "source": [
    "text, counter = \"this is a nice text\", 0\n",
    "for char in text:\n",
    "    if char == \"i\":\n",
    "        counter += 1\n",
    "\n",
    "counter # counter = 3"
   ]
  },
  {
   "cell_type": "code",
   "execution_count": 18,
   "metadata": {},
   "outputs": [
    {
     "name": "stdout",
     "output_type": "stream",
     "text": [
      "1\n",
      "5\n",
      "31\n"
     ]
    }
   ],
   "source": [
    "numbers = [1, 2, 6, 5, 8, 31, 22]\n",
    "for num in numbers:\n",
    "    if num % 2 != 0:\n",
    "        print(num)\n",
    "# prints 1 5 31"
   ]
  },
  {
   "cell_type": "code",
   "execution_count": 19,
   "metadata": {},
   "outputs": [
    {
     "name": "stdout",
     "output_type": "stream",
     "text": [
      "1\n",
      "2\n",
      "3\n"
     ]
    }
   ],
   "source": [
    "values = (1, 2, 3)\n",
    "for val in values:\n",
    "    print(val)\n",
    "    val = 0\n",
    "# prints 1 2 3"
   ]
  },
  {
   "cell_type": "markdown",
   "metadata": {},
   "source": [
    "## `Range` & `Enumerate`"
   ]
  },
  {
   "cell_type": "code",
   "execution_count": 20,
   "metadata": {},
   "outputs": [
    {
     "name": "stdout",
     "output_type": "stream",
     "text": [
      "0 -> 12\n",
      "1 -> 48\n",
      "2 -> 53\n",
      "====================\n",
      "0 -> 12\n",
      "1 -> 48\n",
      "2 -> 53\n"
     ]
    }
   ],
   "source": [
    "range(4)        # 0, 1, 2, 3\n",
    "range(2, 6)     # 2, 3, 4, 5\n",
    "range(2, 10, 3) # 2, 5, 8\n",
    "range(4, 1, -1) # 4, 3, 2\n",
    "\n",
    "numbers = [12, 48, 53]\n",
    "\n",
    "for i in range(len(numbers)):\n",
    "    print(i, \"->\", numbers[i])\n",
    "\n",
    "print(\"=\"*20)\n",
    "\n",
    "for i, num in enumerate(numbers):\n",
    "    print(i, \"->\", num)"
   ]
  },
  {
   "cell_type": "markdown",
   "metadata": {},
   "source": [
    "## Functions"
   ]
  },
  {
   "cell_type": "code",
   "execution_count": 21,
   "metadata": {},
   "outputs": [
    {
     "name": "stdout",
     "output_type": "stream",
     "text": [
      "Hello, Yannis!\n"
     ]
    }
   ],
   "source": [
    "def greet(name):\n",
    "    print(f\"Hello, {name}!\")\n",
    "\n",
    "def add(x, y):\n",
    "    return x + y\n",
    "\n",
    "def add_and_multiply(x, y):\n",
    "    sum = x + y\n",
    "    product = x * y\n",
    "    return sum, product\n",
    "\n",
    "greet(\"Yannis\")                         # returns nothing, just prints\n",
    "sum = add(3, 5)                         # returns 8\n",
    "sum, product = add_and_multiply(3, 6)   # returns (9, 18)"
   ]
  },
  {
   "cell_type": "markdown",
   "metadata": {},
   "source": [
    "## Comments & Docstrings\n",
    "We can comment out the rest of the line using the `#` character \n",
    "\n",
    "A docstring is a type of comment that is enclosed between three double quotes from both sides. They can be multiline comments.\n",
    "\n",
    "(e.g. `\"\"\"This is a docstring\"\"\"`)\n",
    "\n",
    "<div class=\"alert alert-block alert-info\">\n",
    "<b>Tip:</b> It is a good practice to use docstrings  as comments for your functions.\n",
    "</div>\n"
   ]
  },
  {
   "cell_type": "code",
   "execution_count": 22,
   "metadata": {},
   "outputs": [
    {
     "name": "stdout",
     "output_type": "stream",
     "text": [
      "Hello, Yannis!\n"
     ]
    }
   ],
   "source": [
    "def greet(name:str):\n",
    "    \"\"\"\n",
    "    greets a person by their name\n",
    "    Input: name (str)\n",
    "    \"\"\"\n",
    "    print(f\"Hello, {name}!\")\n",
    "\n",
    "def add(x:int, y:int) -> int:\n",
    "    \"\"\"\n",
    "    adds two numbers and returns their sum\n",
    "    Input: \n",
    "        - x (int)\n",
    "        - y (int)\n",
    "    Output: x + y (int)\n",
    "    \"\"\"\n",
    "    return x + y\n",
    "\n",
    "def perform_operations(x:int, y:int) -> tuple:\n",
    "    \"\"\"\n",
    "    performs basic arithmetic operations on two numbers\n",
    "    Input: \n",
    "        - x (int)\n",
    "        - y (int)\n",
    "    Output:\n",
    "        - sum (int)         - x + y\n",
    "        - product (int)     - x * y\n",
    "        - difference (int)  - x - y\n",
    "        - quotient (float)  - x / y\n",
    "    \"\"\"\n",
    "    sum = x + y\n",
    "    product = x * y\n",
    "    difference = x - y\n",
    "    quotient = x / y\n",
    "    return sum, product, difference, quotient\n",
    "\n",
    "greet(\"Yannis\")\n",
    "sum = add(3, 5)\n",
    "sum2, product, difference, quotient = perform_operations(3, 5)\n"
   ]
  },
  {
   "cell_type": "markdown",
   "metadata": {},
   "source": [
    "## List comprehensions"
   ]
  },
  {
   "cell_type": "code",
   "execution_count": 23,
   "metadata": {},
   "outputs": [
    {
     "name": "stdout",
     "output_type": "stream",
     "text": [
      "[1, 4, 9, 16, 25, 36, 49, 64, 81, 100, 121, 144, 169, 196, 225, 256, 289, 324, 361, 400]\n"
     ]
    }
   ],
   "source": [
    "# squares for the numbers in [1,20]\n",
    "\n",
    "# 1st way: using a loop\n",
    "squares = []\n",
    "for i in range(1, 21):\n",
    "    squares.append(i**2)\n",
    "\n",
    "# 2nd way: list comprehension\n",
    "squares=[i**2 for i in range(1,21)]\n",
    "\n",
    "print(squares)"
   ]
  },
  {
   "cell_type": "code",
   "execution_count": 24,
   "metadata": {},
   "outputs": [
    {
     "name": "stdout",
     "output_type": "stream",
     "text": [
      "[4, 16, 36, 64, 100, 144, 196, 256, 324, 400]\n"
     ]
    }
   ],
   "source": [
    "# squares for the even numbers in [1,20]\n",
    "\n",
    "# 1st way: using a loop\n",
    "squares = []\n",
    "for i in range(1, 21):\n",
    "    if i % 2 == 0:\n",
    "        squares.append(i**2)\n",
    "\n",
    "# 2nd way: list comprehension\n",
    "squares=[i**2 for i in range(1,21) if i%2 == 0]\n",
    "\n",
    "print(squares)"
   ]
  },
  {
   "cell_type": "code",
   "execution_count": 25,
   "metadata": {},
   "outputs": [
    {
     "name": "stdout",
     "output_type": "stream",
     "text": [
      "[(2, 1), (2, 3), (2, 5), (4, 1), (4, 3), (4, 5), (6, 1), (6, 3), (6, 5)]\n"
     ]
    }
   ],
   "source": [
    "# all pairs for even x∈[1,6], and odd y∈[1,6]\n",
    "pairs = [(x, y) for x in range(1, 7) for y in range(1, 7) if x%2 == 0 and y%2 == 1]\n",
    "# pairs = [(2, 1), (2, 3), (2, 5), (4, 1), (4, 3), (4, 5), (6, 1), (6, 3), (6, 5)]\n",
    "\n",
    "print(pairs)"
   ]
  },
  {
   "cell_type": "markdown",
   "metadata": {},
   "source": [
    "## Classes"
   ]
  },
  {
   "cell_type": "code",
   "execution_count": 26,
   "metadata": {},
   "outputs": [
    {
     "name": "stdout",
     "output_type": "stream",
     "text": [
      "Hello, I am John and I am 23 years old.\n"
     ]
    }
   ],
   "source": [
    "# class\n",
    "class Person:\n",
    "    def __init__(self, name:str, age:int):\n",
    "        self.name = name\n",
    "        self.age = age\n",
    "\n",
    "    def greet(self):\n",
    "        print(f\"Hello, I am {self.name} and I am {self.age} years old.\")\n",
    "\n",
    "# object\n",
    "john = Person(\"John\", 23)\n",
    "john.greet()"
   ]
  },
  {
   "cell_type": "markdown",
   "metadata": {},
   "source": [
    "Besides object attributes, classes can have class attributes, which can be accessed either from instances of the class, or the class itself"
   ]
  },
  {
   "cell_type": "code",
   "execution_count": 27,
   "metadata": {},
   "outputs": [
    {
     "name": "stdout",
     "output_type": "stream",
     "text": [
      "4\n",
      "4\n",
      "Seymour\n"
     ]
    }
   ],
   "source": [
    "class Dog:\n",
    "    legs = 4\n",
    "    def __init__(self, name:str, color:str):\n",
    "        self.name = name\n",
    "        self.color = color\n",
    "\n",
    "seymour = Dog(\"Seymour\", \"brown\")\n",
    "print(seymour.legs) # prints 4\n",
    "print(Dog.legs)     # prints 4\n",
    "\n",
    "print(seymour.name) # prints \"Seymour\"\n",
    "# print(Dog.name)     # error"
   ]
  },
  {
   "cell_type": "markdown",
   "metadata": {},
   "source": [
    "## Inheritance"
   ]
  },
  {
   "cell_type": "code",
   "execution_count": 28,
   "metadata": {},
   "outputs": [
    {
     "name": "stdout",
     "output_type": "stream",
     "text": [
      "Lara greets you.\n",
      "Garfield meows at you.\n",
      "Purrrr\n"
     ]
    }
   ],
   "source": [
    "class Animal:\n",
    "    def __init__(self, name:str, color:str):\n",
    "        self.name = name\n",
    "        self.color = color\n",
    "\n",
    "    def greet(self):\n",
    "        print(f\"{self.name} greets you.\")\n",
    "\n",
    "class Cat(Animal):\n",
    "    def __init__(self, name:str, color:str, breed:str):\n",
    "        super().__init__(name, color)\n",
    "        self.breed = breed\n",
    "\n",
    "    def greet(self):\n",
    "        print(f\"{self.name} meows at you.\")\n",
    "\n",
    "    def purr(self):\n",
    "        print(\"Purrrr\")\n",
    "\n",
    "lara = Animal(\"Lara\", \"black\")\n",
    "garfield = Cat(\"Garfield\", \"orange\", \"Persian\")\n",
    "\n",
    "lara.greet()        # prints \"Lara greets you.\"\n",
    "garfield.greet()    # prints \"Garfield meows at you.\"\n",
    "garfield.purr()     # prints \"Purrrr\"\n",
    "# lara.purr()         # error"
   ]
  },
  {
   "cell_type": "markdown",
   "metadata": {},
   "source": [
    "## Magic Methods & Operator Overloading"
   ]
  },
  {
   "cell_type": "code",
   "execution_count": 29,
   "metadata": {},
   "outputs": [
    {
     "name": "stdout",
     "output_type": "stream",
     "text": [
      "(4, 11.3)\n"
     ]
    }
   ],
   "source": [
    "class Vector2D:\n",
    "    def __init__(self, x:float, y:float):\n",
    "        self.x = x\n",
    "        self.y = y\n",
    "\n",
    "    def __add__(self, other):\n",
    "        return Vector2D(self.x + other.x, self.y + other.y)\n",
    "\n",
    "    def __str__(self):\n",
    "        return f\"({self.x}, {self.y})\"\n",
    "\n",
    "vec1 = Vector2D(1, 2)\n",
    "vec2 = Vector2D(3, 9.3)\n",
    "vec3 = vec1 + vec2\n",
    "print(vec3) # prints (4, 11.3)"
   ]
  },
  {
   "cell_type": "code",
   "execution_count": 30,
   "metadata": {},
   "outputs": [
    {
     "name": "stdout",
     "output_type": "stream",
     "text": [
      "Title\n",
      "=====================\n",
      "This is a random text\n"
     ]
    }
   ],
   "source": [
    "class SpecialString:\n",
    "    def __init__(self, txt:str):\n",
    "        self.txt = txt\n",
    "\n",
    "    def __truediv__(self, other):\n",
    "        line = \"=\" * len(other.txt)\n",
    "        return \"\\n\".join([self.txt, line, other.txt])\n",
    "\n",
    "title = SpecialString(\"Title\")\n",
    "txt = SpecialString(\"This is a random text\")\n",
    "print(title / txt)"
   ]
  }
 ],
 "metadata": {
  "kernelspec": {
   "display_name": "base",
   "language": "python",
   "name": "python3"
  },
  "language_info": {
   "codemirror_mode": {
    "name": "ipython",
    "version": 3
   },
   "file_extension": ".py",
   "mimetype": "text/x-python",
   "name": "python",
   "nbconvert_exporter": "python",
   "pygments_lexer": "ipython3",
   "version": "3.12.4"
  },
  "orig_nbformat": 4
 },
 "nbformat": 4,
 "nbformat_minor": 2
}
